{
 "cells": [
  {
   "cell_type": "code",
   "execution_count": 50,
   "metadata": {},
   "outputs": [],
   "source": [
    "import numpy as np\n",
    "from matplotlib import pyplot as plt\n",
    "import seaborn as sns\n",
    "import csv\n",
    "from numpy import linalg as LA\n",
    "import datetime\n",
    "from helpers import *\n",
    "from implementations import *\n",
    "from Tools import *"
   ]
  },
  {
   "cell_type": "code",
   "execution_count": 30,
   "metadata": {},
   "outputs": [],
   "source": [
    "Y_train, X_train, Id_train = load_csv_data(\"./data/train.csv\", True)\n",
    "Y_test, X_test, Id_test = load_csv_data(\"./data/test.csv\", True)"
   ]
  },
  {
   "cell_type": "code",
   "execution_count": 33,
   "metadata": {},
   "outputs": [],
   "source": [
    "def build_model_data(y, x):\n",
    "    \"\"\"Form (y,tX) to get regression data in matrix form.\"\"\"\n",
    "    num_samples = len(y)\n",
    "    tx = np.c_[np.ones(num_samples), x]\n",
    "    return y, tx"
   ]
  },
  {
   "cell_type": "code",
   "execution_count": 38,
   "metadata": {},
   "outputs": [],
   "source": [
    "y_train, tx_train = build_model_data(Y_train,X_train)\n",
    "y_test, tx_test = build_model_data(Y_test,X_test)"
   ]
  },
  {
   "cell_type": "markdown",
   "metadata": {},
   "source": [
    "# Least square\n",
    "TODO : FAIRE POUR TOUS LES SUBSETS"
   ]
  },
  {
   "cell_type": "code",
   "execution_count": 43,
   "metadata": {},
   "outputs": [
    {
     "name": "stdout",
     "output_type": "stream",
     "text": [
      "\t Least squares\n",
      "Execution time=0.018 seconds\n",
      "Loss 0.3252531062277643\n",
      "best threshold =  -0.5  with accuracy =  0.6148702155741311\n",
      "\n",
      "\n",
      "\n"
     ]
    }
   ],
   "source": [
    "#Subset 1\n",
    "print('\\t Least squares')\n",
    "start_time = datetime.datetime.now()\n",
    "w, loss= least_squares(y_train, tx_train)\n",
    "end_time = datetime.datetime.now()\n",
    "# Print runtime\n",
    "execution_time = (end_time - start_time).total_seconds()\n",
    "print('Execution time={t:.3f} seconds'.format(t=execution_time))\n",
    "print('Loss', loss)\n",
    "find_threshold(tx_test, y_test, w)\n",
    "print('\\n\\n')\n",
    "#Subset 2 -> AGAIN"
   ]
  },
  {
   "cell_type": "code",
   "execution_count": 41,
   "metadata": {},
   "outputs": [],
   "source": [
    "def find_threshold(tx_test, y_test, w):\n",
    "    \"\"\"\n",
    "    for a given set of observations X and their labels y, finds \n",
    "    the optimal threshold that decides whether a prediction value should\n",
    "    count as a label 1 or a label -1\n",
    "    \"\"\"\n",
    "    pred=tx_test@w\n",
    "    thresholds = np.linspace(-0.5, 0.5, 1000)\n",
    "    max_frac = -999\n",
    "    for j, i in enumerate(thresholds):\n",
    "        y_pred = [1 if x > i else -1 for x in pred]\n",
    "        fraction = 1 - (np.count_nonzero(y_pred - y_test)/len(y_pred))\n",
    "        if max_frac < fraction :\n",
    "            max_frac = fraction \n",
    "            max_thresh = thresholds[j]\n",
    "    print('best threshold = ',max_thresh, ' with accuracy = ', max_frac)\n",
    "    return max_thresh\n"
   ]
  },
  {
   "cell_type": "markdown",
   "metadata": {},
   "source": [
    "# MSE GD"
   ]
  },
  {
   "cell_type": "code",
   "execution_count": 51,
   "metadata": {},
   "outputs": [
    {
     "name": "stdout",
     "output_type": "stream",
     "text": [
      "GD iter. 0/499: loss=25195436.3975544, w0=[105.59902661 105.55902661 105.55902661 ... 105.59902661 105.55902661\n",
      " 105.59902661], w1=[-19064.61552034 -19061.95271213 -19061.95271213 ... -19064.61552034\n",
      " -19061.95271213 -19064.61552034]\n",
      "GD iter. 1/499: loss=3.190154479439322e+17, w0=[-12994606.0124392  -12991535.80727451 -12991535.80727451 ...\n",
      " -12994606.0124392  -12991535.80727451 -12994606.0124392 ], w1=[1.71866059e+09 1.71827407e+09 1.71827407e+09 ... 1.71866059e+09\n",
      " 1.71827407e+09 1.71866059e+09]\n",
      "GD iter. 2/499: loss=4.1433803084543737e+27, w0=[1.48544175e+12 1.48509572e+12 1.48509572e+12 ... 1.48544175e+12\n",
      " 1.48509572e+12 1.48544175e+12], w1=[-1.93131744e+14 -1.93086891e+14 -1.93086891e+14 ... -1.93131744e+14\n",
      " -1.93086891e+14 -1.93131744e+14]\n",
      "GD iter. 3/499: loss=5.38196267064816e+37, w0=[-1.69324028e+17 -1.69284606e+17 -1.69284606e+17 ... -1.69324028e+17\n",
      " -1.69284606e+17 -1.69324028e+17], w1=[2.19907673e+19 2.19856487e+19 2.19856487e+19 ... 2.19907673e+19\n",
      " 2.19856487e+19 2.19907673e+19]\n",
      "GD iter. 4/499: loss=6.990799664893836e+47, w0=[1.92981926e+22 1.92936998e+22 1.92936998e+22 ... 1.92981926e+22\n",
      " 1.92936998e+22 1.92981926e+22], w1=[-2.50612326e+24 -2.50553982e+24 -2.50553982e+24 ... -2.50612326e+24\n",
      " -2.50553982e+24 -2.50612326e+24]\n",
      "GD iter. 5/499: loss=9.080568407374757e+57, w0=[-2.19942990e+27 -2.19891785e+27 -2.19891785e+27 ... -2.19942990e+27\n",
      " -2.19891785e+27 -2.19942990e+27], w1=[2.85622861e+29 2.85556365e+29 2.85556365e+29 ... 2.85622861e+29\n",
      " 2.85556365e+29 2.85622861e+29]\n",
      "GD iter. 6/499: loss=1.1795034410458358e+68, w0=[2.50670512e+32 2.50612153e+32 2.50612153e+32 ... 2.50670512e+32\n",
      " 2.50612153e+32 2.50670512e+32], w1=[-3.25526117e+34 -3.25450331e+34 -3.25450331e+34 ... -3.25526117e+34\n",
      " -3.25450331e+34 -3.25526117e+34]\n",
      "GD iter. 7/499: loss=1.5320939230075853e+78, w0=[-2.85690855e+37 -2.85624344e+37 -2.85624344e+37 ... -2.85690855e+37\n",
      " -2.85624344e+37 -2.85690855e+37], w1=[3.71004270e+39 3.70917897e+39 3.70917897e+39 ... 3.71004270e+39\n",
      " 3.70917897e+39 3.71004270e+39]\n",
      "GD iter. 8/499: loss=1.9900847316184797e+88, w0=[3.25603773e+42 3.25527969e+42 3.25527969e+42 ... 3.25603773e+42\n",
      " 3.25527969e+42 3.25603773e+42], w1=[-4.22836039e+44 -4.22737598e+44 -4.22737598e+44 ... -4.22836039e+44\n",
      " -4.22737598e+44 -4.22836039e+44]\n",
      "GD iter. 9/499: loss=2.5849833222015726e+98, w0=[-3.71092791e+47 -3.71006397e+47 -3.71006397e+47 ... -3.71092791e+47\n",
      " -3.71006397e+47 -3.71092791e+47], w1=[4.81909052e+49 4.81796859e+49 4.81796859e+49 ... 4.81909052e+49\n",
      " 4.81796859e+49 4.81909052e+49]\n",
      "GD iter. 10/499: loss=3.357715714258023e+108, w0=[4.22936928e+52 4.22838464e+52 4.22838464e+52 ... 4.22936928e+52\n",
      " 4.22838464e+52 4.22936928e+52], w1=[-5.49234960e+54 -5.49107093e+54 -5.49107093e+54 ... -5.49234960e+54\n",
      " -5.49107093e+54 -5.49234960e+54]\n",
      "GD iter. 11/499: loss=4.3614419949809e+118, w0=[-4.82024036e+57 -4.81911817e+57 -4.81911817e+57 ... -4.82024036e+57\n",
      " -4.81911817e+57 -4.82024036e+57], w1=[6.25966746e+59 6.25821015e+59 6.25821015e+59 ... 6.25966746e+59\n",
      " 6.25821015e+59 6.25966746e+59]\n",
      "GD iter. 12/499: loss=5.665213464858975e+128, w0=[5.49366008e+62 5.49238111e+62 5.49238111e+62 ... 5.49366008e+62\n",
      " 5.49238111e+62 5.49366008e+62], w1=[-7.13418473e+64 -7.13252383e+64 -7.13252383e+64 ... -7.13418473e+64\n",
      " -7.13252383e+64 -7.13418473e+64]\n"
     ]
    },
    {
     "ename": "KeyboardInterrupt",
     "evalue": "",
     "output_type": "error",
     "traceback": [
      "\u001b[0;31m---------------------------------------------------------------------------\u001b[0m",
      "\u001b[0;31mKeyboardInterrupt\u001b[0m                         Traceback (most recent call last)",
      "\u001b[0;32m/var/folders/7t/0nrx2cz904vd8vf6qt5jttqm0000gn/T/ipykernel_68048/3237035285.py\u001b[0m in \u001b[0;36m<module>\u001b[0;34m\u001b[0m\n\u001b[0;32m----> 1\u001b[0;31m \u001b[0mw\u001b[0m\u001b[0;34m,\u001b[0m \u001b[0mloss\u001b[0m \u001b[0;34m=\u001b[0m \u001b[0mmean_squared_error_gd\u001b[0m\u001b[0;34m(\u001b[0m\u001b[0my_train\u001b[0m\u001b[0;34m,\u001b[0m \u001b[0mtx_train\u001b[0m\u001b[0;34m,\u001b[0m \u001b[0minitial_w\u001b[0m\u001b[0;34m=\u001b[0m\u001b[0mnp\u001b[0m\u001b[0;34m.\u001b[0m\u001b[0mones\u001b[0m\u001b[0;34m(\u001b[0m\u001b[0;34m(\u001b[0m\u001b[0mtx_train\u001b[0m\u001b[0;34m.\u001b[0m\u001b[0mshape\u001b[0m\u001b[0;34m[\u001b[0m\u001b[0;36m1\u001b[0m\u001b[0;34m]\u001b[0m\u001b[0;34m,\u001b[0m \u001b[0;36m1\u001b[0m\u001b[0;34m)\u001b[0m\u001b[0;34m)\u001b[0m\u001b[0;34m,\u001b[0m \u001b[0mmax_iters\u001b[0m\u001b[0;34m=\u001b[0m \u001b[0;36m500\u001b[0m\u001b[0;34m,\u001b[0m \u001b[0mgamma\u001b[0m\u001b[0;34m=\u001b[0m\u001b[0;36m0.01\u001b[0m\u001b[0;34m)\u001b[0m\u001b[0;34m\u001b[0m\u001b[0;34m\u001b[0m\u001b[0m\n\u001b[0m",
      "\u001b[0;32m~/ML_HiggsBoson/implementations.py\u001b[0m in \u001b[0;36mmean_squared_error_gd\u001b[0;34m(y, tx, initial_w, max_iters, gamma)\u001b[0m\n\u001b[1;32m     65\u001b[0m     \u001b[0mw\u001b[0m \u001b[0;34m=\u001b[0m \u001b[0minitial_w\u001b[0m\u001b[0;34m\u001b[0m\u001b[0;34m\u001b[0m\u001b[0m\n\u001b[1;32m     66\u001b[0m     \u001b[0;32mfor\u001b[0m \u001b[0mn_iter\u001b[0m \u001b[0;32min\u001b[0m \u001b[0mrange\u001b[0m\u001b[0;34m(\u001b[0m\u001b[0mmax_iters\u001b[0m\u001b[0;34m)\u001b[0m\u001b[0;34m:\u001b[0m\u001b[0;34m\u001b[0m\u001b[0;34m\u001b[0m\u001b[0m\n\u001b[0;32m---> 67\u001b[0;31m         \u001b[0mloss\u001b[0m \u001b[0;34m=\u001b[0m \u001b[0mcompute_mse_loss\u001b[0m\u001b[0;34m(\u001b[0m\u001b[0my\u001b[0m\u001b[0;34m,\u001b[0m\u001b[0mtx\u001b[0m\u001b[0;34m,\u001b[0m\u001b[0mw\u001b[0m\u001b[0;34m)\u001b[0m\u001b[0;34m\u001b[0m\u001b[0;34m\u001b[0m\u001b[0m\n\u001b[0m\u001b[1;32m     68\u001b[0m         \u001b[0mgrad\u001b[0m \u001b[0;34m=\u001b[0m \u001b[0mcompute_mse_gradient\u001b[0m\u001b[0;34m(\u001b[0m\u001b[0my\u001b[0m\u001b[0;34m,\u001b[0m\u001b[0mtx\u001b[0m\u001b[0;34m,\u001b[0m\u001b[0mw\u001b[0m\u001b[0;34m)\u001b[0m\u001b[0;34m\u001b[0m\u001b[0;34m\u001b[0m\u001b[0m\n\u001b[1;32m     69\u001b[0m         \u001b[0mw\u001b[0m \u001b[0;34m=\u001b[0m \u001b[0mw\u001b[0m \u001b[0;34m-\u001b[0m \u001b[0mgamma\u001b[0m\u001b[0;34m*\u001b[0m\u001b[0mgrad\u001b[0m\u001b[0;34m\u001b[0m\u001b[0;34m\u001b[0m\u001b[0m\n",
      "\u001b[0;32m~/ML_HiggsBoson/implementations.py\u001b[0m in \u001b[0;36mcompute_mse_loss\u001b[0;34m(y, tx, w)\u001b[0m\n\u001b[1;32m     24\u001b[0m     \u001b[0;31m# MSE :\u001b[0m\u001b[0;34m\u001b[0m\u001b[0;34m\u001b[0m\u001b[0m\n\u001b[1;32m     25\u001b[0m \u001b[0;34m\u001b[0m\u001b[0m\n\u001b[0;32m---> 26\u001b[0;31m     \u001b[0my_pred\u001b[0m \u001b[0;34m=\u001b[0m \u001b[0mtx\u001b[0m\u001b[0;34m@\u001b[0m\u001b[0mw\u001b[0m\u001b[0;34m\u001b[0m\u001b[0;34m\u001b[0m\u001b[0m\n\u001b[0m\u001b[1;32m     27\u001b[0m     \u001b[0mx\u001b[0m \u001b[0;34m=\u001b[0m \u001b[0;34m(\u001b[0m\u001b[0my_pred\u001b[0m\u001b[0;34m-\u001b[0m\u001b[0my\u001b[0m\u001b[0;34m)\u001b[0m\u001b[0;34m**\u001b[0m\u001b[0;36m2\u001b[0m\u001b[0;34m\u001b[0m\u001b[0;34m\u001b[0m\u001b[0m\n\u001b[1;32m     28\u001b[0m     \u001b[0mMSE\u001b[0m \u001b[0;34m=\u001b[0m \u001b[0;36m1\u001b[0m\u001b[0;34m/\u001b[0m\u001b[0;36m2\u001b[0m\u001b[0;34m*\u001b[0m\u001b[0mx\u001b[0m\u001b[0;34m.\u001b[0m\u001b[0mmean\u001b[0m\u001b[0;34m(\u001b[0m\u001b[0;34m)\u001b[0m\u001b[0;34m\u001b[0m\u001b[0;34m\u001b[0m\u001b[0m\n",
      "\u001b[0;31mKeyboardInterrupt\u001b[0m: "
     ]
    }
   ],
   "source": [
    "w, loss = mean_squared_error_gd(y_train, tx_train, initial_w=np.ones((tx_train.shape[1], 1)), max_iters= 500, gamma=0.01)"
   ]
  },
  {
   "cell_type": "code",
   "execution_count": null,
   "metadata": {},
   "outputs": [],
   "source": []
  }
 ],
 "metadata": {
  "kernelspec": {
   "display_name": "Python 3.9.7 64-bit",
   "language": "python",
   "name": "python3"
  },
  "language_info": {
   "codemirror_mode": {
    "name": "ipython",
    "version": 3
   },
   "file_extension": ".py",
   "mimetype": "text/x-python",
   "name": "python",
   "nbconvert_exporter": "python",
   "pygments_lexer": "ipython3",
   "version": "3.9.7"
  },
  "orig_nbformat": 4,
  "vscode": {
   "interpreter": {
    "hash": "aee8b7b246df8f9039afb4144a1f6fd8d2ca17a180786b69acc140d282b71a49"
   }
  }
 },
 "nbformat": 4,
 "nbformat_minor": 2
}
