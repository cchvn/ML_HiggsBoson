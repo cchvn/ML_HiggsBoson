{
 "cells": [
  {
   "cell_type": "code",
   "execution_count": 5,
   "id": "fb5b906a",
   "metadata": {},
   "outputs": [],
   "source": [
    "import numpy as np\n",
    "from matplotlib import pyplot as plt\n",
    "import seaborn as sns\n",
    "import csv\n",
    "import helpers\n",
    "from numpy import linalg as LA\n",
    "from implementations import *\n",
    "\n",
    "## load data \n",
    "y_tr, tx_tr, ids_tr = helpers.load_csv_data('./data/train.csv', sub_sample = False)\n",
    "y_te, tx_te, ids_te = helpers.load_csv_data('./data/test.csv', sub_sample = False)\n",
    "\n",
    "## make predictions\n",
    "classifier = Boost2(size=50000)\n",
    "classifier.fit(tx_tr, y_tr)\n",
    "pred = classifier.predict(tx_te)\n",
    "create_csv_submission(ids_te, pred, name = 'final submission')"
   ]
  }
 ],
 "metadata": {
  "kernelspec": {
   "display_name": "Python 3 (ipykernel)",
   "language": "python",
   "name": "python3"
  },
  "language_info": {
   "codemirror_mode": {
    "name": "ipython",
    "version": 3
   },
   "file_extension": ".py",
   "mimetype": "text/x-python",
   "name": "python",
   "nbconvert_exporter": "python",
   "pygments_lexer": "ipython3",
   "version": "3.9.13"
  },
  "vscode": {
   "interpreter": {
    "hash": "aee8b7b246df8f9039afb4144a1f6fd8d2ca17a180786b69acc140d282b71a49"
   }
  }
 },
 "nbformat": 4,
 "nbformat_minor": 5
}
